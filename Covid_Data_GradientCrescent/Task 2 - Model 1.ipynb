{
 "cells": [
  {
   "cell_type": "markdown",
   "metadata": {
    "nbpresent": {
     "id": "1d234e3f-af8b-4757-83f3-241b04b7a511"
    }
   },
   "source": [
    "# Class Challenge: Image Classification of COVID-19 X-rays\n",
    "# Task 2 (Model 1) [Total points: 30]"
   ]
  },
  {
   "cell_type": "markdown",
   "metadata": {
    "nbpresent": {
     "id": "b07b9992-b592-4871-9f9a-3b0ae5fa8b5f"
    }
   },
   "source": [
    "## Setup\n",
    "\n",
    "* This assignment involves the following packages: 'matplotlib', 'numpy', and 'sklearn'. \n",
    "\n",
    "* If you are using conda, use the following commands to install the above packages:<br>\n",
    "```shell\n",
    "conda install matplotlib\n",
    "conda install numpy\n",
    "conda install -c anaconda scikit-learn\n",
    "```\n",
    "\n",
    "* If you are using pip, use use the following commands to install the above packages: <br> \n",
    "```shell\n",
    "pip install matplotlib\n",
    "pip install numpy\n",
    "pip install sklearn\n",
    "```"
   ]
  },
  {
   "cell_type": "markdown",
   "metadata": {
    "nbpresent": {
     "id": "5516f610-f00c-43c3-bf19-4cf7ab9c089f"
    }
   },
   "source": [
    "## Data\n",
    "\n",
    "Please download the data using the following link: [COVID-19](https://drive.google.com/file/d/1Y88tgqpQ1Pjko_7rntcPowOJs_QNOrJ-/view). \n",
    "\n",
    "* After downloading 'Covid_Data_GradientCrescent.zip', unzip the file and you should see the following data structure:\n",
    "\n",
    "\n",
    "|--all<br>\n",
    "|--------train<br>\n",
    "|--------test<br>\n",
    "|--two<br>\n",
    "|--------train<br>\n",
    "|--------test<br>\n",
    "\n",
    "\n",
    "* Put the 'all' folder, the 'two' folder and this python notebook in the **same directory** so that the following code can correctly locate the data.  \n",
    "\n"
   ]
  },
  {
   "cell_type": "markdown",
   "metadata": {
    "nbpresent": {
     "id": "66140980-2aa4-457f-b1df-74c10c234cc2"
    }
   },
   "source": [
    "## [20 points] Multi-class Classification"
   ]
  },
  {
   "cell_type": "code",
   "execution_count": 2,
   "metadata": {
    "nbpresent": {
     "id": "5e05f980-3d14-4367-b3d1-664249145b13"
    },
    "scrolled": true
   },
   "outputs": [
    {
     "data": {
      "text/plain": [
       "'2.3.1'"
      ]
     },
     "execution_count": 2,
     "metadata": {},
     "output_type": "execute_result"
    }
   ],
   "source": [
    "import os\n",
    "\n",
    "import tensorflow as tf\n",
    "from tensorflow import keras\n",
    "import numpy as np\n",
    "import matplotlib.pyplot as plt\n",
    "from tensorflow.keras.preprocessing.image import ImageDataGenerator\n",
    "\n",
    "os.environ['OMP_NUM_THREADS'] = '1'\n",
    "os.environ['CUDA_VISIBLE_DEVICES'] = '-1'\n",
    "tf.__version__"
   ]
  },
  {
   "cell_type": "markdown",
   "metadata": {
    "nbpresent": {
     "id": "66140980-2aa4-457f-b1df-74c10c234cc2"
    }
   },
   "source": [
    "#### Load Image Data"
   ]
  },
  {
   "cell_type": "code",
   "execution_count": 3,
   "metadata": {
    "nbpresent": {
     "id": "58317664-8da3-4283-b3e5-35721687e7ab"
    }
   },
   "outputs": [],
   "source": [
    "DATA_LIST = os.listdir('all/train')\n",
    "DATASET_PATH  = 'all/train'\n",
    "TEST_DIR =  'all/test'\n",
    "IMAGE_SIZE    = (224, 224)\n",
    "NUM_CLASSES   = len(DATA_LIST)\n",
    "BATCH_SIZE    = 10  # try reducing batch size or freeze more layers if your GPU runs out of memory\n",
    "NUM_EPOCHS    = 100\n",
    "LEARNING_RATE = 0.0001 # start off with high rate first 0.001 and experiment with reducing it gradually "
   ]
  },
  {
   "cell_type": "markdown",
   "metadata": {
    "nbpresent": {
     "id": "66140980-2aa4-457f-b1df-74c10c234cc2"
    }
   },
   "source": [
    "#### Generate Training and Validation Batches"
   ]
  },
  {
   "cell_type": "code",
   "execution_count": 4,
   "metadata": {
    "nbpresent": {
     "id": "71760e29-2b08-4259-93f1-ebe68cd74a6d"
    }
   },
   "outputs": [
    {
     "name": "stdout",
     "output_type": "stream",
     "text": [
      "Found 216 images belonging to 4 classes.\n",
      "Found 54 images belonging to 4 classes.\n"
     ]
    }
   ],
   "source": [
    "train_datagen = ImageDataGenerator(rescale=1./255, validation_split = 0.2)\n",
    "\n",
    "\n",
    "train_batches = train_datagen.flow_from_directory(DATASET_PATH,target_size=IMAGE_SIZE,\n",
    "                                                  shuffle=True,batch_size=BATCH_SIZE,\n",
    "                                                  subset = \"training\",seed=42,\n",
    "                                                  class_mode=\"categorical\")\n",
    "\n",
    "valid_batches = train_datagen.flow_from_directory(DATASET_PATH,target_size=IMAGE_SIZE,\n",
    "                                                  shuffle=True,batch_size=BATCH_SIZE,\n",
    "                                                  subset = \"validation\",\n",
    "                                                  seed=42,class_mode=\"categorical\")"
   ]
  },
  {
   "cell_type": "markdown",
   "metadata": {
    "nbpresent": {
     "id": "66140980-2aa4-457f-b1df-74c10c234cc2"
    }
   },
   "source": [
    "#### [10 points] Build Model\n",
    "Hint: Starting from a pre-trained model typically helps performance on a new task, e.g. starting with weights obtained by training on ImageNet. "
   ]
  },
  {
   "cell_type": "code",
   "execution_count": 49,
   "metadata": {
    "nbpresent": {
     "id": "5c52eeb2-1092-4d45-9e16-02219c82cb5e"
    }
   },
   "outputs": [
    {
     "name": "stdout",
     "output_type": "stream",
     "text": [
      "Number of layers in the base model:  19\n",
      "Model: \"vgg16\"\n",
      "_________________________________________________________________\n",
      "Layer (type)                 Output Shape              Param #   \n",
      "=================================================================\n",
      "input_11 (InputLayer)        [(None, 224, 224, 3)]     0         \n",
      "_________________________________________________________________\n",
      "block1_conv1 (Conv2D)        (None, 224, 224, 64)      1792      \n",
      "_________________________________________________________________\n",
      "block1_conv2 (Conv2D)        (None, 224, 224, 64)      36928     \n",
      "_________________________________________________________________\n",
      "block1_pool (MaxPooling2D)   (None, 112, 112, 64)      0         \n",
      "_________________________________________________________________\n",
      "block2_conv1 (Conv2D)        (None, 112, 112, 128)     73856     \n",
      "_________________________________________________________________\n",
      "block2_conv2 (Conv2D)        (None, 112, 112, 128)     147584    \n",
      "_________________________________________________________________\n",
      "block2_pool (MaxPooling2D)   (None, 56, 56, 128)       0         \n",
      "_________________________________________________________________\n",
      "block3_conv1 (Conv2D)        (None, 56, 56, 256)       295168    \n",
      "_________________________________________________________________\n",
      "block3_conv2 (Conv2D)        (None, 56, 56, 256)       590080    \n",
      "_________________________________________________________________\n",
      "block3_conv3 (Conv2D)        (None, 56, 56, 256)       590080    \n",
      "_________________________________________________________________\n",
      "block3_pool (MaxPooling2D)   (None, 28, 28, 256)       0         \n",
      "_________________________________________________________________\n",
      "block4_conv1 (Conv2D)        (None, 28, 28, 512)       1180160   \n",
      "_________________________________________________________________\n",
      "block4_conv2 (Conv2D)        (None, 28, 28, 512)       2359808   \n",
      "_________________________________________________________________\n",
      "block4_conv3 (Conv2D)        (None, 28, 28, 512)       2359808   \n",
      "_________________________________________________________________\n",
      "block4_pool (MaxPooling2D)   (None, 14, 14, 512)       0         \n",
      "_________________________________________________________________\n",
      "block5_conv1 (Conv2D)        (None, 14, 14, 512)       2359808   \n",
      "_________________________________________________________________\n",
      "block5_conv2 (Conv2D)        (None, 14, 14, 512)       2359808   \n",
      "_________________________________________________________________\n",
      "block5_conv3 (Conv2D)        (None, 14, 14, 512)       2359808   \n",
      "_________________________________________________________________\n",
      "block5_pool (MaxPooling2D)   (None, 7, 7, 512)         0         \n",
      "=================================================================\n",
      "Total params: 14,714,688\n",
      "Trainable params: 2,359,808\n",
      "Non-trainable params: 12,354,880\n",
      "_________________________________________________________________\n"
     ]
    }
   ],
   "source": [
    "IMG_SHAPE = IMAGE_SIZE + (3,)\n",
    "base_model = tf.keras.applications.VGG16(input_shape=IMG_SHAPE,\n",
    "                                               include_top=False,\n",
    "                                               weights='imagenet')\n",
    "base_model.trainable = True\n",
    "\n",
    "print(\"Number of layers in the base model: \", len(base_model.layers))\n",
    "\n",
    "# Fine-tune from this layer onwards\n",
    "fine_tune_at = 17\n",
    "\n",
    "# Freeze all the layers before the `fine_tune_at` layer\n",
    "for layer in base_model.layers[:fine_tune_at]:\n",
    "    layer.trainable =  False\n",
    "\n",
    "base_model.summary()"
   ]
  },
  {
   "cell_type": "code",
   "execution_count": 50,
   "metadata": {},
   "outputs": [
    {
     "name": "stdout",
     "output_type": "stream",
     "text": [
      "Model: \"functional_17\"\n",
      "_________________________________________________________________\n",
      "Layer (type)                 Output Shape              Param #   \n",
      "=================================================================\n",
      "input_12 (InputLayer)        [(None, 224, 224, 3)]     0         \n",
      "_________________________________________________________________\n",
      "vgg16 (Functional)           (None, 7, 7, 512)         14714688  \n",
      "_________________________________________________________________\n",
      "flatten_8 (Flatten)          (None, 25088)             0         \n",
      "_________________________________________________________________\n",
      "dropout_8 (Dropout)          (None, 25088)             0         \n",
      "_________________________________________________________________\n",
      "dense_16 (Dense)             (None, 256)               6422784   \n",
      "_________________________________________________________________\n",
      "dropout_9 (Dropout)          (None, 256)               0         \n",
      "_________________________________________________________________\n",
      "dense_17 (Dense)             (None, 4)                 1028      \n",
      "=================================================================\n",
      "Total params: 21,138,500\n",
      "Trainable params: 8,783,620\n",
      "Non-trainable params: 12,354,880\n",
      "_________________________________________________________________\n"
     ]
    }
   ],
   "source": [
    "inputs = tf.keras.Input(shape=(224, 224, 3))\n",
    "x = base_model(inputs, training=False)\n",
    "x = tf.keras.layers.Flatten()(x)\n",
    "x = tf.keras.layers.Dropout(.4)(x)\n",
    "x = tf.keras.layers.Dense(256, activation = 'relu', kernel_regularizer=keras.regularizers.l2(l=0.3))(x)\n",
    "x = tf.keras.layers.Dropout(.4)(x)\n",
    "outputs = tf.keras.layers.Dense(4, activation='softmax', kernel_regularizer=keras.regularizers.l2(l=0.3))(x)\n",
    "model = tf.keras.Model(inputs, outputs)\n",
    "\n",
    "model.summary()"
   ]
  },
  {
   "cell_type": "markdown",
   "metadata": {
    "nbpresent": {
     "id": "66140980-2aa4-457f-b1df-74c10c234cc2"
    }
   },
   "source": [
    "#### [5 points] Train Model"
   ]
  },
  {
   "cell_type": "code",
   "execution_count": 51,
   "metadata": {},
   "outputs": [
    {
     "name": "stdout",
     "output_type": "stream",
     "text": [
      "Epoch 1/40\n",
      "22/22 [==============================] - 7s 308ms/step - loss: 151.5618 - accuracy: 0.2778 - val_loss: 147.7494 - val_accuracy: 0.6111\n",
      "Epoch 2/40\n",
      "22/22 [==============================] - 6s 274ms/step - loss: 145.4193 - accuracy: 0.2963 - val_loss: 142.2655 - val_accuracy: 0.5000\n",
      "Epoch 3/40\n",
      "22/22 [==============================] - 6s 288ms/step - loss: 140.1026 - accuracy: 0.4028 - val_loss: 137.0128 - val_accuracy: 0.5556\n",
      "Epoch 4/40\n",
      "22/22 [==============================] - 6s 292ms/step - loss: 134.8022 - accuracy: 0.4074 - val_loss: 131.8941 - val_accuracy: 0.6296\n",
      "Epoch 5/40\n",
      "22/22 [==============================] - 6s 282ms/step - loss: 129.7278 - accuracy: 0.4306 - val_loss: 126.9202 - val_accuracy: 0.5741\n",
      "Epoch 6/40\n",
      "22/22 [==============================] - 6s 284ms/step - loss: 124.7632 - accuracy: 0.5417 - val_loss: 122.0277 - val_accuracy: 0.7037\n",
      "Epoch 7/40\n",
      "22/22 [==============================] - 6s 291ms/step - loss: 119.9855 - accuracy: 0.5324 - val_loss: 117.3285 - val_accuracy: 0.6852\n",
      "Epoch 8/40\n",
      "22/22 [==============================] - 6s 286ms/step - loss: 115.3144 - accuracy: 0.5880 - val_loss: 112.7835 - val_accuracy: 0.6296\n",
      "Epoch 9/40\n",
      "22/22 [==============================] - 6s 285ms/step - loss: 110.7586 - accuracy: 0.6204 - val_loss: 108.3299 - val_accuracy: 0.7037\n",
      "Epoch 10/40\n",
      "22/22 [==============================] - 6s 279ms/step - loss: 106.3651 - accuracy: 0.6620 - val_loss: 103.9964 - val_accuracy: 0.7037\n",
      "Epoch 11/40\n",
      "22/22 [==============================] - 6s 284ms/step - loss: 102.0836 - accuracy: 0.6528 - val_loss: 99.7879 - val_accuracy: 0.7222\n",
      "Epoch 12/40\n",
      "22/22 [==============================] - 6s 290ms/step - loss: 97.9428 - accuracy: 0.7037 - val_loss: 95.7272 - val_accuracy: 0.7222\n",
      "Epoch 13/40\n",
      "22/22 [==============================] - 6s 283ms/step - loss: 93.9404 - accuracy: 0.7269 - val_loss: 91.8075 - val_accuracy: 0.7222\n",
      "Epoch 14/40\n",
      "22/22 [==============================] - 6s 281ms/step - loss: 89.9999 - accuracy: 0.7639 - val_loss: 87.9603 - val_accuracy: 0.7407\n",
      "Epoch 15/40\n",
      "22/22 [==============================] - 6s 286ms/step - loss: 86.2617 - accuracy: 0.6898 - val_loss: 84.3030 - val_accuracy: 0.7593\n",
      "Epoch 16/40\n",
      "22/22 [==============================] - 6s 291ms/step - loss: 82.6021 - accuracy: 0.7546 - val_loss: 80.7351 - val_accuracy: 0.7778\n",
      "Epoch 17/40\n",
      "22/22 [==============================] - 6s 282ms/step - loss: 79.0967 - accuracy: 0.7639 - val_loss: 77.3018 - val_accuracy: 0.7593\n",
      "Epoch 18/40\n",
      "22/22 [==============================] - 6s 278ms/step - loss: 75.6758 - accuracy: 0.8102 - val_loss: 73.9640 - val_accuracy: 0.7037\n",
      "Epoch 19/40\n",
      "22/22 [==============================] - 6s 287ms/step - loss: 72.3817 - accuracy: 0.7963 - val_loss: 70.7609 - val_accuracy: 0.7778\n",
      "Epoch 20/40\n",
      "22/22 [==============================] - 6s 278ms/step - loss: 69.2303 - accuracy: 0.7731 - val_loss: 67.6491 - val_accuracy: 0.7593\n",
      "Epoch 21/40\n",
      "22/22 [==============================] - 6s 276ms/step - loss: 66.1221 - accuracy: 0.8565 - val_loss: 64.6630 - val_accuracy: 0.7593\n",
      "Epoch 22/40\n",
      "22/22 [==============================] - 6s 282ms/step - loss: 63.2378 - accuracy: 0.8148 - val_loss: 61.7728 - val_accuracy: 0.7407\n",
      "Epoch 23/40\n",
      "22/22 [==============================] - 6s 290ms/step - loss: 60.3678 - accuracy: 0.8102 - val_loss: 59.0494 - val_accuracy: 0.7593\n",
      "Epoch 24/40\n",
      "22/22 [==============================] - 6s 280ms/step - loss: 57.6199 - accuracy: 0.8194 - val_loss: 56.3114 - val_accuracy: 0.7593\n",
      "Epoch 25/40\n",
      "22/22 [==============================] - 6s 289ms/step - loss: 55.0555 - accuracy: 0.8241 - val_loss: 53.7656 - val_accuracy: 0.7407\n",
      "Epoch 26/40\n",
      "22/22 [==============================] - 6s 288ms/step - loss: 52.4855 - accuracy: 0.8333 - val_loss: 51.3121 - val_accuracy: 0.7407\n",
      "Epoch 27/40\n",
      "22/22 [==============================] - 6s 283ms/step - loss: 50.0622 - accuracy: 0.8056 - val_loss: 48.9251 - val_accuracy: 0.7407\n",
      "Epoch 28/40\n",
      "22/22 [==============================] - 6s 284ms/step - loss: 47.7774 - accuracy: 0.8241 - val_loss: 46.6579 - val_accuracy: 0.7407\n",
      "Epoch 29/40\n",
      "22/22 [==============================] - 6s 292ms/step - loss: 45.4919 - accuracy: 0.8426 - val_loss: 44.4536 - val_accuracy: 0.7593\n",
      "Epoch 30/40\n",
      "22/22 [==============================] - 6s 284ms/step - loss: 43.3128 - accuracy: 0.8704 - val_loss: 42.3952 - val_accuracy: 0.7778\n",
      "Epoch 31/40\n",
      "22/22 [==============================] - 7s 296ms/step - loss: 41.3130 - accuracy: 0.8333 - val_loss: 40.3870 - val_accuracy: 0.7778\n",
      "Epoch 32/40\n",
      "22/22 [==============================] - 7s 296ms/step - loss: 39.2677 - accuracy: 0.8935 - val_loss: 38.4053 - val_accuracy: 0.7593\n",
      "Epoch 33/40\n",
      "22/22 [==============================] - 6s 291ms/step - loss: 37.3869 - accuracy: 0.8565 - val_loss: 36.5575 - val_accuracy: 0.7778\n",
      "Epoch 34/40\n",
      "22/22 [==============================] - 6s 279ms/step - loss: 35.5620 - accuracy: 0.8704 - val_loss: 34.8284 - val_accuracy: 0.7593\n",
      "Epoch 35/40\n",
      "22/22 [==============================] - 6s 291ms/step - loss: 33.8723 - accuracy: 0.8565 - val_loss: 33.1516 - val_accuracy: 0.7593\n",
      "Epoch 36/40\n",
      "22/22 [==============================] - 6s 281ms/step - loss: 32.1750 - accuracy: 0.8519 - val_loss: 31.5512 - val_accuracy: 0.7778\n",
      "Epoch 37/40\n",
      "22/22 [==============================] - 6s 283ms/step - loss: 30.6147 - accuracy: 0.8472 - val_loss: 29.9853 - val_accuracy: 0.7778\n",
      "Epoch 38/40\n",
      "22/22 [==============================] - 6s 286ms/step - loss: 29.0984 - accuracy: 0.8796 - val_loss: 28.5072 - val_accuracy: 0.7778\n",
      "Epoch 39/40\n",
      "22/22 [==============================] - 6s 285ms/step - loss: 27.6067 - accuracy: 0.9352 - val_loss: 27.1510 - val_accuracy: 0.7778\n",
      "Epoch 40/40\n",
      "22/22 [==============================] - 6s 287ms/step - loss: 26.2654 - accuracy: 0.9167 - val_loss: 25.7764 - val_accuracy: 0.7778\n"
     ]
    }
   ],
   "source": [
    "model.compile(loss=tf.keras.losses.CategoricalCrossentropy(from_logits=False),\n",
    "              optimizer = tf.keras.optimizers.RMSprop(lr=LEARNING_RATE/10),\n",
    "              metrics=['accuracy'])\n",
    "\n",
    "history = model.fit(train_batches,\n",
    "                    epochs=40,\n",
    "                    validation_data=valid_batches)"
   ]
  },
  {
   "cell_type": "markdown",
   "metadata": {
    "nbpresent": {
     "id": "66140980-2aa4-457f-b1df-74c10c234cc2"
    }
   },
   "source": [
    "#### [5 points] Plot Accuracy and Loss During Training"
   ]
  },
  {
   "cell_type": "code",
   "execution_count": 56,
   "metadata": {
    "nbpresent": {
     "id": "ff342098-784a-4e20-ac34-b74ca8ebe839"
    }
   },
   "outputs": [
    {
     "data": {
      "image/png": "[encoded data removed]",
      "text/plain": [
       "<Figure size 576x576 with 2 Axes>"
      ]
     },
     "metadata": {
      "needs_background": "light"
     },
     "output_type": "display_data"
    }
   ],
   "source": [
    "import matplotlib.pyplot as plt\n",
    "\n",
    "acc = history.history['accuracy']\n",
    "val_acc = history.history['val_accuracy']\n",
    "\n",
    "loss = history.history['loss']\n",
    "val_loss = history.history['val_loss']\n",
    "\n",
    "plt.figure(figsize=(8, 8))\n",
    "plt.subplot(2, 1, 1)\n",
    "plt.plot(acc, label=' Accuracy')\n",
    "plt.plot(val_acc, label='Validation Accuracy')\n",
    "plt.legend(loc='lower right')\n",
    "plt.ylabel('Accuracy')\n",
    "plt.ylim([.2,1.01])\n",
    "plt.title('Accuracy over 25 Epochs')\n",
    "\n",
    "plt.subplot(2, 1, 2)\n",
    "plt.plot(loss, label='Training Loss')\n",
    "plt.plot(val_loss, label='Validation Loss')\n",
    "plt.legend(loc='upper right')\n",
    "plt.ylabel('Cross Entropy')\n",
    "plt.ylim([0,200])\n",
    "plt.title('Loss over 25 Epochs')\n",
    "plt.xlabel('epoch')\n",
    "plt.show()"
   ]
  },
  {
   "cell_type": "markdown",
   "metadata": {
    "nbpresent": {
     "id": "66140980-2aa4-457f-b1df-74c10c234cc2"
    }
   },
   "source": [
    "#### Testing Model"
   ]
  },
  {
   "cell_type": "code",
   "execution_count": 57,
   "metadata": {},
   "outputs": [
    {
     "name": "stdout",
     "output_type": "stream",
     "text": [
      "Found 36 images belonging to 4 classes.\n",
      "36\n",
      "36/36 [==============================] - 1s 34ms/step - loss: 25.7542 - accuracy: 0.7500\n",
      "Test loss: 25.75415802001953\n",
      "Test accuracy: 0.75\n"
     ]
    }
   ],
   "source": [
    "test_datagen = ImageDataGenerator(rescale=1. / 255)\n",
    "\n",
    "eval_generator = test_datagen.flow_from_directory(TEST_DIR,target_size=IMAGE_SIZE,\n",
    "                                                  batch_size=1,shuffle=True,seed=42,class_mode=\"categorical\")\n",
    "eval_generator.reset()\n",
    "print(len(eval_generator))\n",
    "x = model.evaluate_generator(eval_generator,steps = np.ceil(len(eval_generator)),\n",
    "                           use_multiprocessing = False,verbose = 1,workers=1)\n",
    "print('Test loss:' , x[0])\n",
    "print('Test accuracy:',x[1])"
   ]
  },
  {
   "cell_type": "markdown",
   "metadata": {
    "nbpresent": {
     "id": "66140980-2aa4-457f-b1df-74c10c234cc2"
    }
   },
   "source": [
    "## [10 points] TSNE Plot\n",
    "t-Distributed Stochastic Neighbor Embedding (t-SNE) is a widely used technique for dimensionality reduction that is particularly well suited for the visualization of high-dimensional datasets. After training is complete, extract features from a specific deep layer of your choice, use t-SNE to reduce the dimensionality of your extracted features to 2 dimensions and plot the resulting 2D features."
   ]
  },
  {
   "cell_type": "code",
   "execution_count": 58,
   "metadata": {},
   "outputs": [],
   "source": [
    "from tensorflow.keras import models\n",
    "from sklearn.manifold import TSNE\n",
    "import matplotlib.patches as mpatches"
   ]
  },
  {
   "cell_type": "code",
   "execution_count": 63,
   "metadata": {},
   "outputs": [
    {
     "name": "stdout",
     "output_type": "stream",
     "text": [
      "Found 270 images belonging to 4 classes.\n"
     ]
    },
    {
     "data": {
      "text/plain": [
       "{'covid': 0, 'normal': 1, 'pneumonia_bac': 2, 'pneumonia_vir': 3}"
      ]
     },
     "execution_count": 63,
     "metadata": {},
     "output_type": "execute_result"
    }
   ],
   "source": [
    "intermediate_layer_model = models.Model(inputs=model.input,\n",
    "                                        outputs=model.get_layer('dense_16').output)\n",
    "\n",
    "tsne_data_generator = test_datagen.flow_from_directory(DATASET_PATH,target_size=IMAGE_SIZE,\n",
    "                                                  batch_size=1,shuffle=False,seed=42,class_mode=\"binary\")\n",
    "\n",
    "intermediate_output = intermediate_layer_model.predict(tsne_data_generator)\n",
    "\n",
    "reducedData = TSNE(n_components=2).fit_transform(intermediate_output)\n",
    "\n",
    "class_array = tsne_data_generator.labels\n",
    "\n",
    "tsne_data_generator.class_indices"
   ]
  },
  {
   "cell_type": "code",
   "execution_count": 64,
   "metadata": {},
   "outputs": [
    {
     "data": {
      "image/png": "[encoded data removed]",
      "text/plain": [
       "<Figure size 432x288 with 1 Axes>"
      ]
     },
     "metadata": {
      "needs_background": "light"
     },
     "output_type": "display_data"
    }
   ],
   "source": [
    "colormapping = {0: 'red', 1: 'blue', 2: 'green', 3: 'purple'}\n",
    "colors = [colormapping[i] for i in class_array]\n",
    "\n",
    "plt.scatter(x = reducedData[:, 0], y = reducedData[:, 1], c = colors)\n",
    "\n",
    "red_patch = mpatches.Patch(color='red', label='COVID-19')\n",
    "blue_patch = mpatches.Patch(color='blue', label='Normal')\n",
    "green_patch = mpatches.Patch(color='green', label='Bacterial Pnemonia')\n",
    "purple_patch = mpatches.Patch(color='purple', label='Viral Pnemonia')\n",
    "plt.legend(handles=[red_patch, blue_patch, green_patch, purple_patch])\n",
    "plt.show()"
   ]
  }
 ],
 "metadata": {
  "kernelspec": {
   "display_name": "Python 3",
   "language": "python",
   "name": "python3"
  },
  "language_info": {
   "codemirror_mode": {
    "name": "ipython",
    "version": 3
   },
   "file_extension": ".py",
   "mimetype": "text/x-python",
   "name": "python",
   "nbconvert_exporter": "python",
   "pygments_lexer": "ipython3",
   "version": "3.7.4"
  },
  "latex_envs": {
   "LaTeX_envs_menu_present": true,
   "autoclose": false,
   "autocomplete": true,
   "bibliofile": "biblio.bib",
   "cite_by": "apalike",
   "current_citInitial": 1,
   "eqLabelWithNumbers": true,
   "eqNumInitial": 1,
   "hotkeys": {
    "equation": "Ctrl-E",
    "itemize": "Ctrl-I"
   },
   "labels_anchors": false,
   "latex_user_defs": false,
   "report_style_numbering": false,
   "user_envs_cfg": false
  },
  "toc": {
   "base_numbering": 1,
   "nav_menu": {},
   "number_sections": true,
   "sideBar": true,
   "skip_h1_title": false,
   "title_cell": "Table of Contents",
   "title_sidebar": "Contents",
   "toc_cell": false,
   "toc_position": {},
   "toc_section_display": true,
   "toc_window_display": false
  },
  "varInspector": {
   "cols": {
    "lenName": 16,
    "lenType": 16,
    "lenVar": 40
   },
   "kernels_config": {
    "python": {
     "delete_cmd_postfix": "",
     "delete_cmd_prefix": "del ",
     "library": "var_list.py",
     "varRefreshCmd": "print(var_dic_list())"
    },
    "r": {
     "delete_cmd_postfix": ") ",
     "delete_cmd_prefix": "rm(",
     "library": "var_list.r",
     "varRefreshCmd": "cat(var_dic_list()) "
    }
   },
   "types_to_exclude": [
    "module",
    "function",
    "builtin_function_or_method",
    "instance",
    "_Feature"
   ],
   "window_display": false
  }
 },
 "nbformat": 4,
 "nbformat_minor": 4
}
